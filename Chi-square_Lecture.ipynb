{
 "cells": [
  {
   "cell_type": "markdown",
   "metadata": {},
   "source": [
    "## Chi-Square\n",
    "\n",
    "Non-parametric test, without dealing with mean or variance.\n",
    "\n",
    "Mainly used for categorical analysis.\n",
    "\n",
    "### $\\chi^2$ Goodness-of-Fit Test\n",
    "\n",
    "Compare the observed frequencies of a categorical variable with the expected frequency. \n",
    "\n",
    "Hypothesis Question: Does the observed behavior follows the expected behavior?\n",
    "\n",
    "e.g. Customer visit to a shop\n",
    "\n",
    "Record: total 250 customers visited the shop in a week\n",
    "Assumption: Expected frequency of customer each day is 50\n",
    "\n",
    "| Day | Observed Customer | Expected Customer |\n",
    "| :---: | :---: | :---: |\n",
    "| Monday | 50 | 50 |\n",
    "| Tuesday | 60 | 50 |\n",
    "| Wednesday | 40 | 50 |\n",
    "| Thursday | 47 | 50 |\n",
    "| Friday | 53 | 50 |\n",
    "\n",
    "$$\\chi^2 = \\sum{\\frac{(expected_i = observed_i)^2}{expected_i}}$$\n",
    "\n",
    "Therefore, we have the $\\chi^2$ equals to,\n",
    "\n",
    "$\\chi^2 = (50-50)^2/50 + (50-60)^2/50 + ... + (50-53)^2/50 = 4.36$\n",
    "\n",
    "Determine the p-value under $\\chi^2$ distribution:\n",
    "\n",
    "``` python\n",
    "from scipy import stats\n",
    "\n",
    "# Use chi2.cdf() \n",
    "p1 = 1 - stats.chi2.cdf(4.36, df=5-1)\n",
    "\n",
    "# Alternatively, use chi2.sf()\n",
    "p2 = 1 - stats.chi2.sf(4.36, df=5-1)\n",
    "\n",
    "# Given the dataset\n",
    "obs = [50, 60. 40 47, 53]\n",
    "exp = [50, 50, 50, 50, 50]\n",
    "\n",
    "# chi^2 test with chisquare()\n",
    "result = stats.chisquare(f_obs=obs, f_exp=exp)\n",
    "```\n",
    "\n",
    "### $\\chi^2$ Test for Independence\n",
    "\n",
    "If we have two categorical variables and want to see if being a member of one category is independent of being a member of another category.\n",
    "\n",
    "e.g. Customer visit to a shop\n",
    "\n",
    "Record: total 250 customer visited the shop in a week\n",
    "\n",
    "Any association between day and shift to explain the customer visit the shop?\n",
    "\n",
    "**Observed Record:**\n",
    "\n",
    "| Day | Morning | Afternoon |\n",
    "| :---: | :---: | :---: |\n",
    "| Monday | 25 | 25 |\n",
    "| Tuesday | 20 | 30 |\n",
    "| Wednesday | 30 | 15 |\n",
    "| Thursday | 24 | 28 |\n",
    "| Friday | 15 | 38 |\n",
    "\n",
    "Calculate the expected frequency from the observed data:\n",
    "\n",
    "e.g. \n",
    "\n",
    "Expected Frequency for Monday Morning =  (115)(50)/250 = 22.8\n",
    "Expected Frequency for Wednesday Afternoon = (136)(45)/250 = 24.48\n",
    "\n",
    "**Expected Frequency:**\n",
    "\n",
    "| Day | Morning | Afternoon |\n",
    "| :---: | :---: | :---: |\n",
    "| Monday | 22.8\t| 27.2 |\n",
    "| Tuesday | 22.8 | 27.2 |\n",
    "| Wednesday | 20.52 | 24.48 |\n",
    "| Thursday | 23.712\t| 28.288 |\n",
    "| Firday | 24.168 |\t28.832 |\n",
    "\n",
    "$\\chi^2 = (25-22.8)^2/22.8 + (20 - 22.8)^2/22.8 + ... + (38-28.832)^2/28.832 = 15.473$\n",
    "\n",
    "p-value under $\\chi^2$ distribution:\n",
    "\n",
    "``` python\n",
    "import scipy.stats as stats\n",
    "\n",
    "# Create data set\n",
    "morning = np.array([25, 20, 30, 24, 15])\n",
    "afternoon = np.array([25, 30, 15, 28, 38])\n",
    "\n",
    "# Use the chi2_contingency() from stats module\n",
    "stats.contingency.chi2_contingency([morning, afternoon])\n",
    "```\n"
   ]
  },
  {
   "cell_type": "code",
   "execution_count": 1,
   "metadata": {
    "ExecuteTime": {
     "end_time": "2021-08-13T00:09:33.143451Z",
     "start_time": "2021-08-13T00:09:32.348655Z"
    }
   },
   "outputs": [],
   "source": [
    "import numpy as np\n",
    "import scipy.stats as stats"
   ]
  },
  {
   "cell_type": "code",
   "execution_count": 3,
   "metadata": {
    "ExecuteTime": {
     "end_time": "2021-08-13T00:11:20.523006Z",
     "start_time": "2021-08-13T00:11:20.517973Z"
    }
   },
   "outputs": [
    {
     "data": {
      "text/plain": [
       "(15.472644542501133,\n",
       " 0.0038149300005095744,\n",
       " 4,\n",
       " array([[22.8  , 22.8  , 20.52 , 23.712, 24.168],\n",
       "        [27.2  , 27.2  , 24.48 , 28.288, 28.832]]))"
      ]
     },
     "execution_count": 3,
     "metadata": {},
     "output_type": "execute_result"
    }
   ],
   "source": [
    "morning = np.array([25, 20, 30, 24, 15])\n",
    "afternoon = np.array([25, 30, 15, 28, 38])\n",
    "\n",
    "stats.contingency.chi2_contingency([morning, afternoon])"
   ]
  },
  {
   "cell_type": "code",
   "execution_count": null,
   "metadata": {},
   "outputs": [],
   "source": []
  }
 ],
 "metadata": {
  "hide_input": false,
  "kernelspec": {
   "display_name": "Python 3",
   "language": "python",
   "name": "python3"
  },
  "language_info": {
   "codemirror_mode": {
    "name": "ipython",
    "version": 3
   },
   "file_extension": ".py",
   "mimetype": "text/x-python",
   "name": "python",
   "nbconvert_exporter": "python",
   "pygments_lexer": "ipython3",
   "version": "3.8.5"
  },
  "latex_envs": {
   "LaTeX_envs_menu_present": true,
   "autoclose": false,
   "autocomplete": true,
   "bibliofile": "biblio.bib",
   "cite_by": "apalike",
   "current_citInitial": 1,
   "eqLabelWithNumbers": true,
   "eqNumInitial": 1,
   "hotkeys": {
    "equation": "Ctrl-E",
    "itemize": "Ctrl-I"
   },
   "labels_anchors": false,
   "latex_user_defs": false,
   "report_style_numbering": false,
   "user_envs_cfg": false
  },
  "nbTranslate": {
   "displayLangs": [
    "*"
   ],
   "hotkey": "alt-t",
   "langInMainMenu": true,
   "sourceLang": "en",
   "targetLang": "fr",
   "useGoogleTranslate": true
  },
  "toc": {
   "base_numbering": 1,
   "nav_menu": {},
   "number_sections": true,
   "sideBar": true,
   "skip_h1_title": false,
   "title_cell": "Table of Contents",
   "title_sidebar": "Contents",
   "toc_cell": false,
   "toc_position": {},
   "toc_section_display": true,
   "toc_window_display": false
  }
 },
 "nbformat": 4,
 "nbformat_minor": 5
}
